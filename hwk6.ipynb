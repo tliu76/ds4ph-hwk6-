{
 "cells": [
  {
   "cell_type": "code",
   "execution_count": 2,
   "id": "119f40b6-5ae9-4351-8877-87caaef2ff3c",
   "metadata": {},
   "outputs": [
    {
     "name": "stdout",
     "output_type": "stream",
     "text": [
      "Defaulting to user installation because normal site-packages is not writeable\n",
      "Requirement already satisfied: dash==2.0.0 in ./.local/lib/python3.9/site-packages (2.0.0)\n",
      "Requirement already satisfied: Flask>=1.0.4 in /opt/tljh/user/lib/python3.9/site-packages (from dash==2.0.0) (2.0.3)\n",
      "Requirement already satisfied: flask-compress in /opt/tljh/user/lib/python3.9/site-packages (from dash==2.0.0) (1.10.1)\n",
      "Requirement already satisfied: dash-table==5.0.0 in /opt/tljh/user/lib/python3.9/site-packages (from dash==2.0.0) (5.0.0)\n",
      "Requirement already satisfied: dash-core-components==2.0.0 in /opt/tljh/user/lib/python3.9/site-packages (from dash==2.0.0) (2.0.0)\n",
      "Requirement already satisfied: plotly>=5.0.0 in /opt/tljh/user/lib/python3.9/site-packages (from dash==2.0.0) (5.6.0)\n",
      "Requirement already satisfied: dash-html-components==2.0.0 in /opt/tljh/user/lib/python3.9/site-packages (from dash==2.0.0) (2.0.0)\n",
      "Requirement already satisfied: click>=7.1.2 in /opt/tljh/user/lib/python3.9/site-packages (from Flask>=1.0.4->dash==2.0.0) (8.0.3)\n",
      "Requirement already satisfied: Werkzeug>=2.0 in /opt/tljh/user/lib/python3.9/site-packages (from Flask>=1.0.4->dash==2.0.0) (2.0.3)\n",
      "Requirement already satisfied: itsdangerous>=2.0 in /opt/tljh/user/lib/python3.9/site-packages (from Flask>=1.0.4->dash==2.0.0) (2.0.1)\n",
      "Requirement already satisfied: Jinja2>=3.0 in /opt/tljh/user/lib/python3.9/site-packages (from Flask>=1.0.4->dash==2.0.0) (3.0.3)\n",
      "Requirement already satisfied: six in /opt/tljh/user/lib/python3.9/site-packages (from plotly>=5.0.0->dash==2.0.0) (1.16.0)\n",
      "Requirement already satisfied: tenacity>=6.2.0 in /opt/tljh/user/lib/python3.9/site-packages (from plotly>=5.0.0->dash==2.0.0) (8.0.1)\n",
      "Requirement already satisfied: brotli in /opt/tljh/user/lib/python3.9/site-packages (from flask-compress->dash==2.0.0) (1.0.9)\n",
      "Requirement already satisfied: MarkupSafe>=2.0 in /opt/tljh/user/lib/python3.9/site-packages (from Jinja2>=3.0->Flask>=1.0.4->dash==2.0.0) (2.0.1)\n",
      "Note: you may need to restart the kernel to use updated packages.\n"
     ]
    }
   ],
   "source": [
    "pip install dash==2.0.0"
   ]
  },
  {
   "cell_type": "code",
   "execution_count": 3,
   "id": "343a44dc-93bd-42e0-98e4-1c8d2429f8ca",
   "metadata": {},
   "outputs": [
    {
     "name": "stdout",
     "output_type": "stream",
     "text": [
      "Defaulting to user installation because normal site-packages is not writeable\n",
      "Requirement already satisfied: dash-leaflet in ./.local/lib/python3.9/site-packages (0.1.23)\n",
      "Requirement already satisfied: geobuf in ./.local/lib/python3.9/site-packages (from dash-leaflet) (1.1.1)\n",
      "Requirement already satisfied: protobuf in /opt/tljh/user/lib/python3.9/site-packages (from geobuf->dash-leaflet) (3.19.4)\n",
      "Requirement already satisfied: click in /opt/tljh/user/lib/python3.9/site-packages (from geobuf->dash-leaflet) (8.0.3)\n",
      "Requirement already satisfied: six in /opt/tljh/user/lib/python3.9/site-packages (from geobuf->dash-leaflet) (1.16.0)\n",
      "Note: you may need to restart the kernel to use updated packages.\n"
     ]
    }
   ],
   "source": [
    "pip install dash-leaflet"
   ]
  },
  {
   "cell_type": "code",
   "execution_count": 1,
   "id": "82fd748e-bd38-419a-a318-55d43aeb7dea",
   "metadata": {},
   "outputs": [],
   "source": [
    "import dash_leaflet as dl\n",
    "from dash import Dash, dcc, html, Input, Output\n",
    "from dash.dependencies import Input, Output, State\n",
    "import os\n",
    "from dash import Dash, dcc, html, Input, Output\n",
    "import plotly.express as px\n",
    "import pandas as pd"
   ]
  },
  {
   "cell_type": "markdown",
   "id": "d25163c4-bfa6-4093-b617-0b1d320625b3",
   "metadata": {},
   "source": [
    "hwk 6 question 1\n",
    "Create a body mass index calculator dash app. It should take in height in feet or meters and weight in lbs or kilograms and return the associated body mass index. Post both the python code for your dash app and a screenshot of it running on the class server."
   ]
  },
  {
   "cell_type": "code",
   "execution_count": 6,
   "id": "fa4c3b54-0045-4108-9c43-5a1b880c3269",
   "metadata": {},
   "outputs": [
    {
     "name": "stdin",
     "output_type": "stream",
     "text": [
      "Input your height in meters:  1.6\n",
      "Input your weight in kilograms:  60\n"
     ]
    },
    {
     "name": "stdout",
     "output_type": "stream",
     "text": [
      "Your body mass index is:  23.44\n"
     ]
    }
   ],
   "source": [
    "height = float(input(\"Input your height in meters: \"))\n",
    "weight = float(input(\"Input your weight in kilograms: \"))\n",
    "print(\"Your body mass index is: \", round(weight / (height * height), 2))"
   ]
  },
  {
   "cell_type": "code",
   "execution_count": null,
   "id": "273c6040-8aef-4aa8-94de-5b3151f79bd0",
   "metadata": {},
   "outputs": [
    {
     "name": "stdout",
     "output_type": "stream",
     "text": [
      "Dash is running on http://jupyter.biostat.jhsph.edu:1054/\n",
      "\n",
      "Dash is running on http://jupyter.biostat.jhsph.edu:1054/\n",
      "\n",
      " * Serving Flask app '__main__' (lazy loading)\n",
      " * Environment: production\n",
      "\u001b[31m   WARNING: This is a development server. Do not use it in a production deployment.\u001b[0m\n",
      "\u001b[2m   Use a production WSGI server instead.\u001b[0m\n",
      " * Debug mode: off\n"
     ]
    },
    {
     "name": "stderr",
     "output_type": "stream",
     "text": [
      " * Running on http://jupyter.biostat.jhsph.edu:1054/ (Press CTRL+C to quit)\n",
      "144.121.149.45 - - [15/Mar/2022 22:59:14] \"GET / HTTP/1.1\" 200 -\n",
      "144.121.149.45 - - [15/Mar/2022 22:59:14] \"GET /_dash-layout HTTP/1.1\" 200 -\n",
      "144.121.149.45 - - [15/Mar/2022 22:59:14] \"GET /_dash-dependencies HTTP/1.1\" 200 -\n",
      "144.121.149.45 - - [15/Mar/2022 22:59:14] \"POST /_dash-update-component HTTP/1.1\" 200 -\n",
      "144.121.149.45 - - [15/Mar/2022 22:59:17] \"POST /_dash-update-component HTTP/1.1\" 200 -\n",
      "144.121.149.45 - - [15/Mar/2022 22:59:17] \"POST /_dash-update-component HTTP/1.1\" 200 -\n",
      "144.121.149.45 - - [15/Mar/2022 22:59:21] \"POST /_dash-update-component HTTP/1.1\" 200 -\n",
      "144.121.149.45 - - [15/Mar/2022 22:59:22] \"POST /_dash-update-component HTTP/1.1\" 200 -\n",
      "144.121.149.45 - - [15/Mar/2022 22:59:25] \"POST /_dash-update-component HTTP/1.1\" 200 -\n",
      "144.121.149.45 - - [15/Mar/2022 22:59:25] \"POST /_dash-update-component HTTP/1.1\" 200 -\n",
      "144.121.149.45 - - [15/Mar/2022 22:59:27] \"POST /_dash-update-component HTTP/1.1\" 200 -\n",
      "144.121.149.45 - - [15/Mar/2022 22:59:31] \"POST /_dash-update-component HTTP/1.1\" 200 -\n",
      "144.121.149.45 - - [15/Mar/2022 22:59:32] \"POST /_dash-update-component HTTP/1.1\" 200 -\n",
      "144.121.149.45 - - [15/Mar/2022 23:02:21] \"GET / HTTP/1.1\" 200 -\n",
      "144.121.149.45 - - [15/Mar/2022 23:02:21] \"GET /_dash-layout HTTP/1.1\" 200 -\n",
      "144.121.149.45 - - [15/Mar/2022 23:02:21] \"GET /_dash-dependencies HTTP/1.1\" 200 -\n",
      "144.121.149.45 - - [15/Mar/2022 23:02:21] \"POST /_dash-update-component HTTP/1.1\" 200 -\n"
     ]
    }
   ],
   "source": [
    "from dash import Dash, dcc, html, Input, Output\n",
    "app = Dash(__name__)\n",
    "\n",
    "app.layout = html.Div([\n",
    "    html.H1(\"Enter your data to see the results\"),\n",
    "    html.Div([\n",
    "        html.H2('Enter your weight in kilogram'),\n",
    "        dcc.Input(id = 'weight', value = 95, type = 'number'),\n",
    "        html.H2('Enter your height in meter'),\n",
    "        dcc.Input(id = 'height', value = 2.0, type = 'number')\n",
    "    ]),\n",
    "    html.Br(),\n",
    "    html.H1(\"Your estimated body mass inndex is: \"),\n",
    "    html.H1(id = 'bmi'),\n",
    "\n",
    "])\n",
    "\n",
    "\n",
    "@app.callback(\n",
    "    Output(component_id = 'bmi'   , component_property = 'children'),\n",
    "    Input(component_id  = 'weight', component_property = 'value'),\n",
    "    Input(component_id  = 'height', component_property = 'value')\n",
    ")\n",
    "def update_output_div(weight, height):\n",
    "    \n",
    "    rval = (weight / (height * height))\n",
    "\n",
    "    return rval\n",
    "\n",
    "if __name__ == '__main__':\n",
    "    app.run_server(debug = False,  host = 'jupyter.biostat.jhsph.edu', port=os.getuid()+34)\n"
   ]
  },
  {
   "cell_type": "code",
   "execution_count": null,
   "id": "52bf8ed6-ec6d-41a4-8df5-10fa9dbae4e1",
   "metadata": {},
   "outputs": [],
   "source": []
  },
  {
   "cell_type": "markdown",
   "id": "f78a86a8-0bfe-47d0-94dd-9e1eee16a088",
   "metadata": {},
   "source": [
    "hwk6 question 2"
   ]
  },
  {
   "cell_type": "code",
   "execution_count": null,
   "id": "08da7b27-f6b4-46d9-a6b2-0301cb5f319b",
   "metadata": {},
   "outputs": [],
   "source": []
  },
  {
   "cell_type": "code",
   "execution_count": null,
   "id": "4ddf509b-fe81-4417-8479-0c389908cc1c",
   "metadata": {},
   "outputs": [
    {
     "name": "stdout",
     "output_type": "stream",
     "text": [
      "Dash is running on http://jupyter.biostat.jhsph.edu:1053/\n",
      "\n",
      " * Serving Flask app '__main__' (lazy loading)\n",
      " * Environment: production\n",
      "\u001b[31m   WARNING: This is a development server. Do not use it in a production deployment.\u001b[0m\n",
      "\u001b[2m   Use a production WSGI server instead.\u001b[0m\n",
      " * Debug mode: off\n"
     ]
    },
    {
     "name": "stderr",
     "output_type": "stream",
     "text": [
      " * Running on http://jupyter.biostat.jhsph.edu:1053/ (Press CTRL+C to quit)\n",
      "162.129.44.189 - - [16/Mar/2022 13:33:08] \"GET / HTTP/1.1\" 200 -\n",
      "162.129.44.189 - - [16/Mar/2022 13:33:09] \"GET /_dash-layout HTTP/1.1\" 200 -\n",
      "162.129.44.189 - - [16/Mar/2022 13:33:09] \"GET /_dash-dependencies HTTP/1.1\" 200 -\n",
      "162.129.44.189 - - [16/Mar/2022 13:33:09] \"POST /_dash-update-component HTTP/1.1\" 200 -\n",
      "162.129.44.189 - - [16/Mar/2022 13:33:09] \"POST /_dash-update-component HTTP/1.1\" 200 -\n",
      "162.129.44.189 - - [16/Mar/2022 13:33:09] \"POST /_dash-update-component HTTP/1.1\" 200 -\n",
      "162.129.44.189 - - [16/Mar/2022 13:33:10] \"POST /_dash-update-component HTTP/1.1\" 200 -\n",
      "162.129.44.189 - - [16/Mar/2022 13:34:45] \"GET / HTTP/1.1\" 200 -\n",
      "162.129.44.189 - - [16/Mar/2022 13:34:45] \"GET /_dash-layout HTTP/1.1\" 200 -\n",
      "162.129.44.189 - - [16/Mar/2022 13:34:45] \"GET /_dash-dependencies HTTP/1.1\" 200 -\n",
      "162.129.44.189 - - [16/Mar/2022 13:34:45] \"POST /_dash-update-component HTTP/1.1\" 200 -\n",
      "162.129.44.189 - - [16/Mar/2022 13:34:45] \"POST /_dash-update-component HTTP/1.1\" 200 -\n",
      "162.129.44.189 - - [16/Mar/2022 13:34:46] \"POST /_dash-update-component HTTP/1.1\" 200 -\n",
      "162.129.44.189 - - [16/Mar/2022 13:34:46] \"POST /_dash-update-component HTTP/1.1\" 200 -\n",
      "162.129.44.189 - - [16/Mar/2022 13:34:51] \"GET / HTTP/1.1\" 200 -\n",
      "162.129.44.189 - - [16/Mar/2022 13:34:51] \"GET /_dash-layout HTTP/1.1\" 200 -\n",
      "162.129.44.189 - - [16/Mar/2022 13:34:51] \"GET /_dash-dependencies HTTP/1.1\" 200 -\n",
      "162.129.44.189 - - [16/Mar/2022 13:34:51] \"POST /_dash-update-component HTTP/1.1\" 200 -\n",
      "162.129.44.189 - - [16/Mar/2022 13:34:51] \"POST /_dash-update-component HTTP/1.1\" 200 -\n",
      "162.129.44.189 - - [16/Mar/2022 13:34:55] \"POST /_dash-update-component HTTP/1.1\" 200 -\n",
      "162.129.44.189 - - [16/Mar/2022 13:34:55] \"POST /_dash-update-component HTTP/1.1\" 200 -\n"
     ]
    }
   ],
   "source": [
    "import dash_leaflet as dl\n",
    "from dash import Dash, html, dcc\n",
    "from dash.dependencies import Input, Output, State\n",
    "import os\n",
    "from dash import Dash, dcc, html, Input, Output\n",
    "import plotly.express as px\n",
    "import pandas as pd\n",
    "\n",
    "app = Dash()  \n",
    "app.layout = html.Div([\n",
    "    html.H1(id = 'textout'),\n",
    "    dl.Map(id = \"output-state\"),\n",
    "    dcc.Input(id = 'lat', value = 39.298, type = 'number'),\n",
    "    dcc.Input(id = 'long', value = -76.590, type = 'number'),\n",
    "    dcc.Input(id = 'zoom', value = 11, type = 'number'),\n",
    "    html.Button('Submit', id='submit-button')\n",
    "\n",
    "])\n",
    "\n",
    "@app.callback(Output('output-state', 'children'),\n",
    "              Input('submit-button', 'n_clicks'),\n",
    "              State('lat', 'value'),\n",
    "              State('long', 'value'),\n",
    "              State('zoom', 'value'))\n",
    "def update_output(n_clicks, lat, long, zoom):\n",
    "    if n_clicks is not None:\n",
    "        return dl.Map([dl.TileLayer()]+[dl.Marker(position=[lat,long])], \n",
    "                        center = (lat, long), \n",
    "                        zoom = zoom,\n",
    "                        style={'width': '100%', 'height': '75vh', 'margin': \"auto\", \"display\": \"block\"})\n",
    "\n",
    "@app.callback(Output('textout', 'children'),\n",
    "              Input('submit-button', 'n_clicks'),\n",
    "              State('lat', 'value'),\n",
    "              State('long', 'value'),\n",
    "              State('zoom', 'value'))\n",
    "\n",
    "def update_text(n_clicks, lat, long, zoom):    \n",
    "        return  'Lat {}, Long {},  zoom {}, number of clicks {} times'.format(lat, long, zoom, n_clicks)\n",
    "\n",
    "if __name__ == '__main__':\n",
    "    app.run_server(debug = False,  host = 'jupyter.biostat.jhsph.edu', port=os.getuid()+33)"
   ]
  },
  {
   "cell_type": "code",
   "execution_count": null,
   "id": "ff816f0f-2f4a-42f4-91cf-854f4169eb7c",
   "metadata": {},
   "outputs": [],
   "source": [
    "\n"
   ]
  },
  {
   "cell_type": "code",
   "execution_count": null,
   "id": "65c70d45-eba5-4012-a919-aa17f5f5e290",
   "metadata": {},
   "outputs": [],
   "source": []
  }
 ],
 "metadata": {
  "kernelspec": {
   "display_name": "Python 3 (ipykernel)",
   "language": "python",
   "name": "python3"
  },
  "language_info": {
   "codemirror_mode": {
    "name": "ipython",
    "version": 3
   },
   "file_extension": ".py",
   "mimetype": "text/x-python",
   "name": "python",
   "nbconvert_exporter": "python",
   "pygments_lexer": "ipython3",
   "version": "3.9.7"
  }
 },
 "nbformat": 4,
 "nbformat_minor": 5
}
